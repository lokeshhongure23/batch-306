{
 "cells": [
  {
   "cell_type": "code",
   "execution_count": 3,
   "id": "cfe242ad",
   "metadata": {},
   "outputs": [],
   "source": [
    "import re\n",
    "text=\"\"\" name:Neeta\n",
    "         63512032424\n",
    "         neeta.kadam@gmail.com\n",
    "         pimpri\n",
    "         itvedant.com\n",
    "         datascience\n",
    "         12324545611\"\"\"\n",
    "l1=re.findall(\"[0-9]{10}\",text)"
   ]
  },
  {
   "cell_type": "code",
   "execution_count": 4,
   "id": "f42e8bcb",
   "metadata": {},
   "outputs": [
    {
     "data": {
      "text/plain": [
       "['6351203242', '1232454561']"
      ]
     },
     "execution_count": 4,
     "metadata": {},
     "output_type": "execute_result"
    }
   ],
   "source": [
    "l1"
   ]
  },
  {
   "cell_type": "code",
   "execution_count": null,
   "id": "d8922171",
   "metadata": {},
   "outputs": [],
   "source": []
  }
 ],
 "metadata": {
  "kernelspec": {
   "display_name": "Python 3 (ipykernel)",
   "language": "python",
   "name": "python3"
  },
  "language_info": {
   "codemirror_mode": {
    "name": "ipython",
    "version": 3
   },
   "file_extension": ".py",
   "mimetype": "text/x-python",
   "name": "python",
   "nbconvert_exporter": "python",
   "pygments_lexer": "ipython3",
   "version": "3.11.3"
  }
 },
 "nbformat": 4,
 "nbformat_minor": 5
}
